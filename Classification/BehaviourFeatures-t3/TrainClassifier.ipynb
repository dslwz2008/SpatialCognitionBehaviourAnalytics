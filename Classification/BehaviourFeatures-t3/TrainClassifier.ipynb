{
 "cells": [
  {
   "cell_type": "code",
   "execution_count": 53,
   "metadata": {
    "collapsed": true
   },
   "outputs": [],
   "source": [
    "import numpy as np\n",
    "from sklearn.datasets import load_iris\n",
    "from sklearn.svm import LinearSVC\n",
    "from sklearn.multiclass import OneVsOneClassifier\n",
    "from sklearn.multiclass import OneVsRestClassifier\n",
    "from sklearn.preprocessing import MinMaxScaler\n",
    "import pandas as pd"
   ]
  },
  {
   "cell_type": "code",
   "execution_count": 54,
   "metadata": {
    "collapsed": false
   },
   "outputs": [
    {
     "name": "stdout",
     "output_type": "stream",
     "text": [
      "0.98\n",
      "0.9666666666666667\n"
     ]
    }
   ],
   "source": [
    "iris = load_iris()\n",
    "X=iris.data\n",
    "Y=iris.target\n",
    "#ovo\n",
    "ovoclf = OneVsOneClassifier(LinearSVC(random_state=0))\n",
    "ovoprdct = ovoclf.fit(X,Y).predict(X)\n",
    "print(len(ovoprdct[ovoprdct==Y])/ovoprdct.shape[0])\n",
    "#ovr\n",
    "ovrclf = OneVsRestClassifier(LinearSVC(random_state=0))\n",
    "ovrprdct = ovrclf.fit(X,Y).predict(X)\n",
    "print(len(ovrprdct[ovrprdct==Y])/ovrprdct.shape[0])"
   ]
  },
  {
   "cell_type": "code",
   "execution_count": 55,
   "metadata": {
    "collapsed": true
   },
   "outputs": [],
   "source": [
    "import os"
   ]
  },
  {
   "cell_type": "code",
   "execution_count": 65,
   "metadata": {
    "collapsed": false
   },
   "outputs": [
    {
     "name": "stdout",
     "output_type": "stream",
     "text": [
      "./train/LiuJianTaoMainCamera_01-16-2017-15-21.csv\n",
      "./train/MainCamera_01-22-2017-17-17.csv\n"
     ]
    }
   ],
   "source": [
    "train_data = './train/'\n",
    "X = []\n",
    "Y = []\n",
    "for filename in os.listdir(train_data):\n",
    "    filename = train_data+filename\n",
    "    dataFrame = pd.read_csv(filename, header=None, names=['no','x1','y1','z1','lable'],\n",
    "                      dtype={'no':np.int32, 'x1':np.float64,'y1':np.float64,'z1':np.float64,'lable':np.int32},\n",
    "                      )\n",
    "    print(filename)\n",
    "#     print(dataFrame.shape)\n",
    "    for idx,row in dataFrame.iterrows():\n",
    "        if idx == 0 or idx == dataFrame.shape[0]-1: continue\n",
    "        lastRow = dataFrame.loc[idx-1, :][1:4]\n",
    "        array = lastRow.tolist()\n",
    "        curRow = row[1:4]\n",
    "        array.extend(curRow.tolist())\n",
    "        nextRow = dataFrame.loc[idx+1, :][1:4]\n",
    "        array.extend(nextRow.tolist())\n",
    "        X.append(array)\n",
    "        \n",
    "        Y.append(int(row[4]))\n",
    "        "
   ]
  },
  {
   "cell_type": "code",
   "execution_count": 57,
   "metadata": {
    "collapsed": false
   },
   "outputs": [
    {
     "name": "stdout",
     "output_type": "stream",
     "text": [
      "[[0.044994, 5.106646, 71.09737, 0.002684, 174.1904, 5.8358, 0.016572, 117.93299999999999, 7.110185], [0.002684, 174.1904, 5.8358, 0.016572, 117.93299999999999, 7.110185, 0.031989, 172.35299999999998, 29.77986], [0.016572, 117.93299999999999, 7.110185, 0.031989, 172.35299999999998, 29.77986, 0.004713, 135.1425, 4.4109], [0.031989, 172.35299999999998, 29.77986, 0.004713, 135.1425, 4.4109, 0.014282, 68.9937, 11.78167], [0.004713, 135.1425, 4.4109, 0.014282, 68.9937, 11.78167, 0.006520999999999999, 88.45916, 5.39358], [0.014282, 68.9937, 11.78167, 0.006520999999999999, 88.45916, 5.39358, 0.001779, 110.67399999999999, 9.956306], [0.006520999999999999, 88.45916, 5.39358, 0.001779, 110.67399999999999, 9.956306, 0.006475, 152.5527, 13.17195], [0.001779, 110.67399999999999, 9.956306, 0.006475, 152.5527, 13.17195, 0.014171000000000001, 115.9226, 10.921510000000001], [0.006475, 152.5527, 13.17195, 0.014171000000000001, 115.9226, 10.921510000000001, 0.0075450000000000005, 106.1267, 2.7574509999999997], [0.014171000000000001, 115.9226, 10.921510000000001, 0.0075450000000000005, 106.1267, 2.7574509999999997, 0.012069, 119.8625, 10.4231]]\n",
      "[1, 1, 1, 1, 3, 3, 3, 3, 3, 3]\n"
     ]
    }
   ],
   "source": [
    "print(X[0:10])\n",
    "print(Y[0:10])"
   ]
  },
  {
   "cell_type": "code",
   "execution_count": 58,
   "metadata": {
    "collapsed": false
   },
   "outputs": [
    {
     "name": "stdout",
     "output_type": "stream",
     "text": [
      "[[ 0.03103437  0.02852647  0.36062485 ...,  0.01123507  0.65879095\n",
      "   0.03528323]\n",
      " [ 0.00156043  0.97305299  0.02880365 ...,  0.02197485  0.96278901\n",
      "   0.15054676]\n",
      " [ 0.01123507  0.65879095  0.03528323 ...,  0.00297387  0.75492572\n",
      "   0.02155877]\n",
      " ..., \n",
      " [ 0.58485063  0.08300169  0.27411159 ...,  0.00497107  0.17328186\n",
      "   0.0340002 ]\n",
      " [ 0.04598242  0.05191071  0.03863623 ...,  0.00749005  0.02562113\n",
      "   0.06347462]\n",
      " [ 0.00497107  0.17328186  0.0340002  ...,  0.00413861  0.32132925\n",
      "   0.02927461]]\n"
     ]
    }
   ],
   "source": [
    "#scale\n",
    "min_max_scaler = MinMaxScaler()\n",
    "X_scaled = min_max_scaler.fit_transform(X)\n",
    "print(X_scaled)\n"
   ]
  },
  {
   "cell_type": "code",
   "execution_count": 70,
   "metadata": {
    "collapsed": false
   },
   "outputs": [
    {
     "name": "stdout",
     "output_type": "stream",
     "text": [
      "0.8154838709677419\n",
      "0.8025806451612904\n"
     ]
    }
   ],
   "source": [
    "# svm classifier\n",
    "#ovo\n",
    "ovoclf = OneVsOneClassifier(LinearSVC(random_state=0))\n",
    "ovoclf = ovoclf.fit(X_scaled,Y)\n",
    "ovoprdct = ovoclf.predict(X_scaled)\n",
    "print(len(ovoprdct[ovoprdct==Y])/ovoprdct.shape[0])\n",
    "\n",
    "#ovr\n",
    "ovrclf = OneVsRestClassifier(LinearSVC(random_state=0))\n",
    "ovrclf = ovrclf.fit(X_scaled,Y)\n",
    "ovrprdct = ovrclf.predict(X_scaled)\n",
    "print(len(ovrprdct[ovrprdct==Y])/ovrprdct.shape[0])"
   ]
  },
  {
   "cell_type": "code",
   "execution_count": 67,
   "metadata": {
    "collapsed": false
   },
   "outputs": [
    {
     "name": "stdout",
     "output_type": "stream",
     "text": [
      "1.0\n"
     ]
    }
   ],
   "source": [
    "# decision tree \n",
    "from sklearn import tree\n",
    "clf = tree.DecisionTreeClassifier()\n",
    "clf = clf.fit(X_scaled,Y)\n",
    "predict = clf.predict(X_scaled)\n",
    "print(len(predict[predict==Y])/predict.shape[0])"
   ]
  },
  {
   "cell_type": "code",
   "execution_count": 68,
   "metadata": {
    "collapsed": false
   },
   "outputs": [
    {
     "name": "stdout",
     "output_type": "stream",
     "text": [
      "./test/TestMainCamera_01-19-2017-17-53.csv\n",
      "[[0.01859, 45.092290000000006, 17.91969, 0.157252, 98.21381, 133.3186, 0.086539, 177.3689, 64.98946], [0.157252, 98.21381, 133.3186, 0.086539, 177.3689, 64.98946, 0.100867, 89.08588, 141.0967], [0.086539, 177.3689, 64.98946, 0.100867, 89.08588, 141.0967, 0.164431, 131.0014, 133.6781], [0.100867, 89.08588, 141.0967, 0.164431, 131.0014, 133.6781, 0.024633000000000002, 162.0928, 17.993679999999998], [0.164431, 131.0014, 133.6781, 0.024633000000000002, 162.0928, 17.993679999999998, 0.067905, 0.32805300000000004, 32.790009999999995], [0.024633000000000002, 162.0928, 17.993679999999998, 0.067905, 0.32805300000000004, 32.790009999999995, 0.032761, 66.33664, 57.905390000000004], [0.067905, 0.32805300000000004, 32.790009999999995, 0.032761, 66.33664, 57.905390000000004, 0.11181700000000001, 61.503240000000005, 93.24969], [0.032761, 66.33664, 57.905390000000004, 0.11181700000000001, 61.503240000000005, 93.24969, 0.007651000000000001, 94.14721999999999, 13.15107], [0.11181700000000001, 61.503240000000005, 93.24969, 0.007651000000000001, 94.14721999999999, 13.15107, 0.013314, 39.56708, 13.931479999999999], [0.007651000000000001, 94.14721999999999, 13.15107, 0.013314, 39.56708, 13.931479999999999, 0.060887000000000004, 70.72247, 64.77386]]\n",
      "[1, 2, 2, 1, 1, 1, 2, 1, 1, 1]\n",
      "[[ 0.01246336  0.25357407  0.10745177 ...,  0.05894376  0.99742446\n",
      "   0.39299309]\n",
      " [ 0.10731487  0.55230007  0.80750102 ...,  0.06874481  0.50096965\n",
      "   0.85468563]\n",
      " [ 0.05894376  0.99742446  0.39299309 ...,  0.11222565  0.73667932\n",
      "   0.80968187]\n",
      " ..., \n",
      " [ 0.04581756  0.97619258  0.32647213 ...,  0.02470988  0.91315093\n",
      "   0.10505623]\n",
      " [ 0.05582518  0.24177877  0.44326395 ...,  0.01507095  0.14999283\n",
      "   0.11159914]\n",
      " [ 0.02470988  0.91315093  0.10505623 ...,  0.06622682  0.08190651\n",
      "   0.60141604]]\n"
     ]
    }
   ],
   "source": [
    "test_data = './test/'\n",
    "X_test = []\n",
    "Y_test = []\n",
    "for filename in os.listdir(test_data):\n",
    "    filename = test_data+filename\n",
    "    dataFrame = pd.read_csv(filename, header=None, names=['no','x1','y1','z1','lable'],\n",
    "                      dtype={'no':np.int32, 'x1':np.float64,'y1':np.float64,'z1':np.float64,'lable':np.int32},\n",
    "                      )\n",
    "    print(filename)\n",
    "#     print(dataFrame.shape)\n",
    "    for idx,row in dataFrame.iterrows():\n",
    "        if idx == 0 or idx == dataFrame.shape[0]-1: continue\n",
    "        lastRow = dataFrame.loc[idx-1, :][1:4]\n",
    "        array = lastRow.tolist()\n",
    "        curRow = row[1:4]\n",
    "        array.extend(curRow.tolist())\n",
    "        nextRow = dataFrame.loc[idx+1, :][1:4]\n",
    "        array.extend(nextRow.tolist())\n",
    "        X_test.append(array)\n",
    "        \n",
    "        Y_test.append(int(row[4]))\n",
    "\n",
    "print(X_test[0:10])\n",
    "print(Y_test[0:10])\n",
    "\n",
    "#scale\n",
    "min_max_scaler = MinMaxScaler()\n",
    "X_test_scaled = min_max_scaler.fit_transform(X_test)\n",
    "print(X_test_scaled)\n"
   ]
  },
  {
   "cell_type": "code",
   "execution_count": 69,
   "metadata": {
    "collapsed": false
   },
   "outputs": [
    {
     "name": "stdout",
     "output_type": "stream",
     "text": [
      "0.8445040214477212\n"
     ]
    }
   ],
   "source": [
    "predict = clf.predict(X_test_scaled)\n",
    "print(len(predict[predict==Y_test])/predict.shape[0])"
   ]
  },
  {
   "cell_type": "code",
   "execution_count": 72,
   "metadata": {
    "collapsed": false
   },
   "outputs": [
    {
     "name": "stdout",
     "output_type": "stream",
     "text": [
      "0.8096514745308311\n",
      "0.8310991957104558\n"
     ]
    }
   ],
   "source": [
    "#ovo\n",
    "ovoprdct = ovoclf.predict(X_test_scaled)\n",
    "print(len(ovoprdct[ovoprdct==Y_test])/ovoprdct.shape[0])\n",
    "\n",
    "#ovr\n",
    "ovrprdct = ovrclf.predict(X_test_scaled)\n",
    "print(len(ovrprdct[ovrprdct==Y_test])/ovrprdct.shape[0])"
   ]
  },
  {
   "cell_type": "code",
   "execution_count": null,
   "metadata": {
    "collapsed": true
   },
   "outputs": [],
   "source": []
  }
 ],
 "metadata": {
  "kernelspec": {
   "display_name": "Python 3",
   "language": "python",
   "name": "python3"
  },
  "language_info": {
   "codemirror_mode": {
    "name": "ipython",
    "version": 3
   },
   "file_extension": ".py",
   "mimetype": "text/x-python",
   "name": "python",
   "nbconvert_exporter": "python",
   "pygments_lexer": "ipython3",
   "version": "3.6.0"
  }
 },
 "nbformat": 4,
 "nbformat_minor": 2
}
