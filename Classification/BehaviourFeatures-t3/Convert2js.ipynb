{
 "cells": [
  {
   "cell_type": "markdown",
   "metadata": {},
   "source": [
    "Convert and store data in a js file which can be read and used as variables by javascript programs."
   ]
  },
  {
   "cell_type": "code",
   "execution_count": 33,
   "metadata": {
    "collapsed": true
   },
   "outputs": [],
   "source": [
    "import os\n",
    "import numpy as np\n",
    "import pandas as pd\n",
    "import json"
   ]
  },
  {
   "cell_type": "code",
   "execution_count": 34,
   "metadata": {
    "collapsed": false
   },
   "outputs": [],
   "source": [
    "labels = ['Gaze','Scan','GazeInPlace','ScanInPlace']\n",
    "N_ROWS = 526\n",
    "N_COLS = 658"
   ]
  },
  {
   "cell_type": "code",
   "execution_count": 35,
   "metadata": {
    "collapsed": false
   },
   "outputs": [
    {
     "data": {
      "text/plain": [
       "array([265, 450])"
      ]
     },
     "execution_count": 35,
     "metadata": {},
     "output_type": "execute_result"
    }
   ],
   "source": [
    "def coord_transform(point):\n",
    "#     h=658\n",
    "#     w=526\n",
    "#     h1=100\n",
    "#     w1=80\n",
    "#     reflection = np.array([[1,0,0],\n",
    "#                            [0,-1,0],\n",
    "#                            [0,0,1]])\n",
    "#     translate = np.array([[1,0,w1],\n",
    "#                           [0,1,0],\n",
    "#                           [0,0,1]])\n",
    "#     scale = np.array([[w/w1,0,0],\n",
    "#                       [0,h/h1,0],\n",
    "#                       [0,0,1]])\n",
    "    import math\n",
    "    mat = np.array([[6.575,0,526],\n",
    "                    [0,-6.58,0],\n",
    "                    [0,0,1]])\n",
    "    vector=(*point,1)\n",
    "    result = mat.dot(vector)\n",
    "    return np.floor(result[0:2]).astype(int)\n",
    "\n",
    "coord_transform([-40,-50])\n",
    "coord_transform([-39.581,-68.3935])"
   ]
  },
  {
   "cell_type": "code",
   "execution_count": 44,
   "metadata": {
    "collapsed": false
   },
   "outputs": [
    {
     "name": "stdout",
     "output_type": "stream",
     "text": [
      "./processed/10.csv\n",
      "./processed/11.csv\n",
      "./processed/12.csv\n",
      "./processed/13.csv\n",
      "./processed/14.csv\n",
      "./processed/16.csv\n",
      "./processed/17.csv\n",
      "./processed/18.csv\n",
      "./processed/19.csv\n",
      "./processed/20.csv\n",
      "./processed/21.csv\n",
      "./processed/22.csv\n",
      "./processed/23.csv\n",
      "./processed/24.csv\n",
      "./processed/25.csv\n",
      "./processed/3.csv\n",
      "./processed/4.csv\n",
      "./processed/5.csv\n",
      "./processed/6.csv\n",
      "./processed/7.csv\n",
      "./processed/8.csv\n",
      "./processed/9.csv\n",
      "./processed/x1.csv\n",
      "./processed/x2.csv\n",
      "./processed/x3.csv\n",
      "./processed/x4.csv\n",
      "Finished!\n"
     ]
    }
   ],
   "source": [
    "processed = './processed/'\n",
    "js = './js/'\n",
    "all_data = {}\n",
    "for filename in os.listdir(processed):\n",
    "    fullpath = processed+filename\n",
    "    print(fullpath)\n",
    "    dataFrame = pd.read_csv(fullpath,#index_col=13,\n",
    "                    dtype={'no':np.int32, 'posx':np.float64,'posy':np.float64,'posz':np.float64,\n",
    "                           'movedirx':np.float64,'movediry':np.float64,'movedirz':np.float64,\n",
    "                           'viewdirx':np.float64,'viewdiry':np.float64,'viewdirz':np.float64,\n",
    "                           'deltapos':np.float64,'deltamovedir':np.float64,'deltaviewdir':np.float64,'label':np.int32})\n",
    "#     print(dataFrame.head())\n",
    "    \n",
    "    # 四类行为\n",
    "    playerData = {}\n",
    "    for i in range(1,5):\n",
    "        bins = np.zeros((N_ROWS,N_COLS))\n",
    "        subDf = dataFrame[dataFrame['label']==i]\n",
    "#         print(subDf.shape)\n",
    "        for idx,row in subDf.iterrows():\n",
    "            pixel = coord_transform([row['posx'],row['posy']])\n",
    "            bins[pixel[0],pixel[1]] += 1\n",
    "            \n",
    "        # convert data to js object\n",
    "        dataArray = []\n",
    "        max = 0\n",
    "        for (row,col),value in np.ndenumerate(bins):\n",
    "            if value == 0: continue\n",
    "            max = value if value > max else max\n",
    "            dataArray.append({'x':row,'y':col,'value':value})\n",
    "        dataobj = {'max':max,'data':dataArray}\n",
    "        \n",
    "        # append to parent object\n",
    "        playerData[labels[i-1]] = dataobj\n",
    "        # update value\n",
    "        if labels[i-1] in all_data:\n",
    "            maxvalue = all_data[labels[i-1]]['max']\n",
    "            if dataobj['max'] > maxvalue:\n",
    "                all_data[labels[i-1]]['max'] = dataobj['max']\n",
    "            all_data[labels[i-1]]['data'].extend(dataobj['data'])\n",
    "        else:\n",
    "            all_data[labels[i-1]] = dataobj\n",
    "        \n",
    "    #write to a js file\n",
    "#     print(playerData)\n",
    "    jsonobj = json.dumps(playerData)\n",
    "    filename = filename[:-4]\n",
    "    content = 'var player{} = {};'.format(filename, jsonobj)\n",
    "    target_filename = js+'player'+filename+'.js'\n",
    "    with open(target_filename,'w') as fp:\n",
    "        fp.write(content)\n",
    "    \n",
    "# write all in one\n",
    "# print(all_data)\n",
    "jsonobj = json.dumps(all_data)\n",
    "content = 'var all = {};'.format(jsonobj)\n",
    "all_filename = js+'all'+'.js'\n",
    "with open(all_filename,'w') as fp:\n",
    "    fp.write(content)\n",
    "    \n",
    "print('Finished!')"
   ]
  },
  {
   "cell_type": "code",
   "execution_count": null,
   "metadata": {
    "collapsed": true
   },
   "outputs": [],
   "source": []
  }
 ],
 "metadata": {
  "kernelspec": {
   "display_name": "Python 3",
   "language": "python",
   "name": "python3"
  },
  "language_info": {
   "codemirror_mode": {
    "name": "ipython",
    "version": 3
   },
   "file_extension": ".py",
   "mimetype": "text/x-python",
   "name": "python",
   "nbconvert_exporter": "python",
   "pygments_lexer": "ipython3",
   "version": "3.6.0"
  }
 },
 "nbformat": 4,
 "nbformat_minor": 2
}
