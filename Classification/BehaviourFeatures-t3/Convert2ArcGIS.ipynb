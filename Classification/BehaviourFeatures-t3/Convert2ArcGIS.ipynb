{
 "cells": [
  {
   "cell_type": "markdown",
   "metadata": {},
   "source": [
    "Statistics the place coordinates where Scan Behaviour happened. Convert coordinate to arcgis and store x,y coordinates in a text file."
   ]
  },
  {
   "cell_type": "code",
   "execution_count": 1,
   "metadata": {
    "collapsed": true
   },
   "outputs": [],
   "source": [
    "import os\n",
    "import numpy as np\n",
    "import pandas as pd\n",
    "import json"
   ]
  },
  {
   "cell_type": "code",
   "execution_count": 2,
   "metadata": {
    "collapsed": true
   },
   "outputs": [],
   "source": [
    "labels = 'Scan'\n",
    "N_ROWS = 526\n",
    "N_COLS = 658"
   ]
  },
  {
   "cell_type": "code",
   "execution_count": 8,
   "metadata": {
    "collapsed": false
   },
   "outputs": [
    {
     "name": "stdout",
     "output_type": "stream",
     "text": [
      "[ 263 -329]\n",
      "[ 265 -451]\n"
     ]
    }
   ],
   "source": [
    "def coord_transform_arcgis(point):\n",
    "#     新的长宽\n",
    "    h=658\n",
    "    w=526\n",
    "#     原来的长宽\n",
    "    h1=100\n",
    "    w1=80\n",
    "#     reflection = np.array([[-1,0,0],\n",
    "#                            [0,-1,0],\n",
    "#                            [0,0,1]])\n",
    "    translate = np.array([[1,0,w1],\n",
    "                          [0,1,0],\n",
    "                          [0,0,1]])\n",
    "    scale = np.array([[w/w1,0,0],\n",
    "                      [0,h/h1,0],\n",
    "                      [0,0,1]])\n",
    "    mat = scale.dot(translate)\n",
    "    vector=(*point,1)\n",
    "    result = mat.dot(vector)\n",
    "    return np.floor(result[0:2]).astype(int)\n",
    "\n",
    "print(coord_transform_arcgis([-40,-50]))\n",
    "print(coord_transform_arcgis([-39.581,-68.3935]))"
   ]
  },
  {
   "cell_type": "code",
   "execution_count": 9,
   "metadata": {
    "collapsed": false
   },
   "outputs": [
    {
     "name": "stdout",
     "output_type": "stream",
     "text": [
      "./processed/10.csv\n",
      "./processed/11.csv\n",
      "./processed/12.csv\n",
      "./processed/13.csv\n",
      "./processed/14.csv\n",
      "./processed/16.csv\n",
      "./processed/17.csv\n",
      "./processed/18.csv\n",
      "./processed/19.csv\n",
      "./processed/20.csv\n",
      "./processed/21.csv\n",
      "./processed/22.csv\n",
      "./processed/23.csv\n",
      "./processed/24.csv\n",
      "./processed/25.csv\n",
      "./processed/3.csv\n",
      "./processed/4.csv\n",
      "./processed/5.csv\n",
      "./processed/6.csv\n",
      "./processed/7.csv\n",
      "./processed/8.csv\n",
      "./processed/9.csv\n",
      "./processed/x1.csv\n",
      "./processed/x2.csv\n",
      "./processed/x3.csv\n",
      "./processed/x4.csv\n",
      "Finished!\n"
     ]
    }
   ],
   "source": [
    "processed = './processed/'\n",
    "xyfile = './scan_xy.txt'\n",
    "with open(xyfile,'w') as fp:\n",
    "    for filename in os.listdir(processed):\n",
    "        fullpath = processed+filename\n",
    "        print(fullpath)\n",
    "        dataFrame = pd.read_csv(fullpath,#index_col=13,\n",
    "                        dtype={'no':np.int32, 'posx':np.float64,'posy':np.float64,'posz':np.float64,\n",
    "                               'movedirx':np.float64,'movediry':np.float64,'movedirz':np.float64,\n",
    "                               'viewdirx':np.float64,'viewdiry':np.float64,'viewdirz':np.float64,\n",
    "                               'deltapos':np.float64,'deltamovedir':np.float64,'deltaviewdir':np.float64,'label':np.int32})\n",
    "\n",
    "        #label of Scan behaviour is 4\n",
    "        subDf = dataFrame[dataFrame['label']==4]\n",
    "        for idx,row in subDf.iterrows():\n",
    "            pixel = coord_transform_arcgis([row['posx'],row['posz']])\n",
    "            fp.write(str.format('{},{}\\n',pixel[0],pixel[1]))\n",
    "\n",
    "    \n",
    "print('Finished!')"
   ]
  },
  {
   "cell_type": "code",
   "execution_count": null,
   "metadata": {
    "collapsed": true
   },
   "outputs": [],
   "source": []
  }
 ],
 "metadata": {
  "kernelspec": {
   "display_name": "Python 3",
   "language": "python",
   "name": "python3"
  },
  "language_info": {
   "codemirror_mode": {
    "name": "ipython",
    "version": 3
   },
   "file_extension": ".py",
   "mimetype": "text/x-python",
   "name": "python",
   "nbconvert_exporter": "python",
   "pygments_lexer": "ipython3",
   "version": "3.6.0"
  }
 },
 "nbformat": 4,
 "nbformat_minor": 2
}
